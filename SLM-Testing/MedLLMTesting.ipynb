{
  "nbformat": 4,
  "nbformat_minor": 0,
  "metadata": {
    "colab": {
      "provenance": [],
      "gpuType": "T4"
    },
    "kernelspec": {
      "name": "python3",
      "display_name": "Python 3"
    },
    "language_info": {
      "name": "python"
    },
    "accelerator": "GPU"
  },
  "cells": [
    {
      "cell_type": "code",
      "source": [
        "!pip install -q transformers accelerate bitsandbytes sentencepiece\n",
        "!pip install -U bitsandbytes"
      ],
      "metadata": {
        "colab": {
          "base_uri": "https://localhost:8080/"
        },
        "id": "4J1HsUjH8wXw",
        "outputId": "2c11e460-efd8-4e42-8b45-81b0040c662d"
      },
      "execution_count": 1,
      "outputs": [
        {
          "output_type": "stream",
          "name": "stdout",
          "text": [
            "Requirement already satisfied: bitsandbytes in /usr/local/lib/python3.12/dist-packages (0.47.0)\n",
            "Requirement already satisfied: torch<3,>=2.2 in /usr/local/lib/python3.12/dist-packages (from bitsandbytes) (2.8.0+cu126)\n",
            "Requirement already satisfied: numpy>=1.17 in /usr/local/lib/python3.12/dist-packages (from bitsandbytes) (2.0.2)\n",
            "Requirement already satisfied: filelock in /usr/local/lib/python3.12/dist-packages (from torch<3,>=2.2->bitsandbytes) (3.19.1)\n",
            "Requirement already satisfied: typing-extensions>=4.10.0 in /usr/local/lib/python3.12/dist-packages (from torch<3,>=2.2->bitsandbytes) (4.15.0)\n",
            "Requirement already satisfied: setuptools in /usr/local/lib/python3.12/dist-packages (from torch<3,>=2.2->bitsandbytes) (75.2.0)\n",
            "Requirement already satisfied: sympy>=1.13.3 in /usr/local/lib/python3.12/dist-packages (from torch<3,>=2.2->bitsandbytes) (1.13.3)\n",
            "Requirement already satisfied: networkx in /usr/local/lib/python3.12/dist-packages (from torch<3,>=2.2->bitsandbytes) (3.5)\n",
            "Requirement already satisfied: jinja2 in /usr/local/lib/python3.12/dist-packages (from torch<3,>=2.2->bitsandbytes) (3.1.6)\n",
            "Requirement already satisfied: fsspec in /usr/local/lib/python3.12/dist-packages (from torch<3,>=2.2->bitsandbytes) (2025.3.0)\n",
            "Requirement already satisfied: nvidia-cuda-nvrtc-cu12==12.6.77 in /usr/local/lib/python3.12/dist-packages (from torch<3,>=2.2->bitsandbytes) (12.6.77)\n",
            "Requirement already satisfied: nvidia-cuda-runtime-cu12==12.6.77 in /usr/local/lib/python3.12/dist-packages (from torch<3,>=2.2->bitsandbytes) (12.6.77)\n",
            "Requirement already satisfied: nvidia-cuda-cupti-cu12==12.6.80 in /usr/local/lib/python3.12/dist-packages (from torch<3,>=2.2->bitsandbytes) (12.6.80)\n",
            "Requirement already satisfied: nvidia-cudnn-cu12==9.10.2.21 in /usr/local/lib/python3.12/dist-packages (from torch<3,>=2.2->bitsandbytes) (9.10.2.21)\n",
            "Requirement already satisfied: nvidia-cublas-cu12==12.6.4.1 in /usr/local/lib/python3.12/dist-packages (from torch<3,>=2.2->bitsandbytes) (12.6.4.1)\n",
            "Requirement already satisfied: nvidia-cufft-cu12==11.3.0.4 in /usr/local/lib/python3.12/dist-packages (from torch<3,>=2.2->bitsandbytes) (11.3.0.4)\n",
            "Requirement already satisfied: nvidia-curand-cu12==10.3.7.77 in /usr/local/lib/python3.12/dist-packages (from torch<3,>=2.2->bitsandbytes) (10.3.7.77)\n",
            "Requirement already satisfied: nvidia-cusolver-cu12==11.7.1.2 in /usr/local/lib/python3.12/dist-packages (from torch<3,>=2.2->bitsandbytes) (11.7.1.2)\n",
            "Requirement already satisfied: nvidia-cusparse-cu12==12.5.4.2 in /usr/local/lib/python3.12/dist-packages (from torch<3,>=2.2->bitsandbytes) (12.5.4.2)\n",
            "Requirement already satisfied: nvidia-cusparselt-cu12==0.7.1 in /usr/local/lib/python3.12/dist-packages (from torch<3,>=2.2->bitsandbytes) (0.7.1)\n",
            "Requirement already satisfied: nvidia-nccl-cu12==2.27.3 in /usr/local/lib/python3.12/dist-packages (from torch<3,>=2.2->bitsandbytes) (2.27.3)\n",
            "Requirement already satisfied: nvidia-nvtx-cu12==12.6.77 in /usr/local/lib/python3.12/dist-packages (from torch<3,>=2.2->bitsandbytes) (12.6.77)\n",
            "Requirement already satisfied: nvidia-nvjitlink-cu12==12.6.85 in /usr/local/lib/python3.12/dist-packages (from torch<3,>=2.2->bitsandbytes) (12.6.85)\n",
            "Requirement already satisfied: nvidia-cufile-cu12==1.11.1.6 in /usr/local/lib/python3.12/dist-packages (from torch<3,>=2.2->bitsandbytes) (1.11.1.6)\n",
            "Requirement already satisfied: triton==3.4.0 in /usr/local/lib/python3.12/dist-packages (from torch<3,>=2.2->bitsandbytes) (3.4.0)\n",
            "Requirement already satisfied: mpmath<1.4,>=1.1.0 in /usr/local/lib/python3.12/dist-packages (from sympy>=1.13.3->torch<3,>=2.2->bitsandbytes) (1.3.0)\n",
            "Requirement already satisfied: MarkupSafe>=2.0 in /usr/local/lib/python3.12/dist-packages (from jinja2->torch<3,>=2.2->bitsandbytes) (3.0.2)\n"
          ]
        }
      ]
    },
    {
      "cell_type": "code",
      "source": [
        "from huggingface_hub import login\n",
        "login(new_session=False)"
      ],
      "metadata": {
        "colab": {
          "base_uri": "https://localhost:8080/",
          "height": 17,
          "referenced_widgets": [
            "4c5d2a2fbe244fdf8c7fbfe47bed9912",
            "4962d58c67134cf7921224af62e883bf",
            "dde36ef10ca94968ac4769dfbf3e5115",
            "fd38ba436e2745448ce336ab27207266",
            "c8549198d849412cb91a15a147d2f9b7",
            "4efb018742034f60ba3115469c786845",
            "62bf58ae5c0f414bac1b0e20a47b5be7",
            "b525bd99b298428a8bce87bd66b60104",
            "c121756759904b6eacddb736eff80805",
            "cfc76d1ace9f457c98984f1c381402bb",
            "ee8b740992b0430a858f84ed48b958ea",
            "a278ce75a0cb450bb39e3820f05024ca",
            "c3c5d21c0be2475aa29aff59a2400f1d",
            "1db8d675a8f04527ae4a2f2e4c14438c",
            "f7b7b63d7fa94fb7b000b2e3b28eeba2",
            "713a1a9faa264d1c9e42c314743dc2d0",
            "ad1103480fe74a1d8e7dff52d59accd9",
            "73751e54b88d4e05ac746d4187327ad0",
            "5ef99d0651bf43e9abacb19cf42e9feb",
            "0e5ddabcc7f0452b99892f6bcab46fda"
          ]
        },
        "id": "GzZoa8Zg_2Yh",
        "outputId": "b2072d87-70e2-4070-bb62-48d2e6cd4516"
      },
      "execution_count": 5,
      "outputs": [
        {
          "output_type": "display_data",
          "data": {
            "text/plain": [
              "VBox(children=(HTML(value='<center> <img\\nsrc=https://huggingface.co/front/assets/huggingface_logo-noborder.sv…"
            ],
            "application/vnd.jupyter.widget-view+json": {
              "version_major": 2,
              "version_minor": 0,
              "model_id": "4c5d2a2fbe244fdf8c7fbfe47bed9912"
            }
          },
          "metadata": {}
        }
      ]
    },
    {
      "cell_type": "code",
      "source": [
        "import torch\n",
        "from transformers import AutoTokenizer, AutoModelForCausalLM, BitsAndBytesConfig\n",
        "\n",
        "# ──────────────── 1️⃣  CHOOSE A MODEL ───────────────── #\n",
        "# MODEL_ID = \"emilyalsentzer/Bio_Discharge_Summary_BERT\"      # Discharge-BERT\n",
        "# MODEL_ID = \"epfl-llm/meditron-7b\"                           # Meditron-7B\n",
        "# MODEL_ID = \"microsoft/biogpt\"                               # BioGPT (decoder-only)\n",
        "# MODEL_ID = \"mradermacher/JSL-Med-Mistral-24B-V1-Slerp-i1-GGUF\"   # JSL-Mistral-24B (GGUF)\n",
        "# MODEL_ID = \"mradermacher/JSL-MedQwen-14b-reasoning-i1-GGUF\"      # JSL-Qwen-14B (GGUF)\n",
        "# MODEL_ID = \"mradermacher/JSL-Med-Phi-3.5-Mini-v3-i1-GGUF\"        # JSL-Phi-3.5 (GGUF)\n",
        "# MODEL_ID = \"mradermacher/Llama-3.1-8B-UltraMedical-i1-GGUF\"      # Llama-UltraMedical-8B\n",
        "MODEL_ID = \"epfl-llm/meditron-7b\"                               # ← pick one\n",
        "\n",
        "# ──────────────── 2️⃣  PROMPT (keep as-is) ───────────────── #\n",
        "prompt = \"\"\"You are an experienced clinical pharmacist so first extract medicine details only from below prompt.\n",
        "For every medicine (one per line) in the list below, classify it as\n",
        "RELEVANT for treating or managing \"type-2 diabetes\" or IRRELEVANT\n",
        "(unrelated/contraindicated). Return strictly valid JSON:\n",
        "{\n",
        "  \"relevant\": [\n",
        "    {\"name\":\"<Med A>\",\"explanation\":\"<15-30 word reason it helps type-2 diabetes>\"}\n",
        "  ],\n",
        "  \"irrelevant\": [\n",
        "    {\"name\":\"<Med X>\",\"explanation\":\"<brief reason it is not used / risky>\"}\n",
        "  ]\n",
        "}\n",
        "• Keep keys exactly as shown.\n",
        "• Do not add any explanations outside the JSON block.\n",
        "List:\n",
        "Metformin\n",
        "Aspirin\n",
        "Lisinopril\n",
        "Hydrochlorothiazide\n",
        "Ibuprofen\n",
        "Atorvastatin\n",
        "Paracetamol\n",
        "Omeprazole\n",
        "Vitamin D\n",
        "Cetirizine\n",
        "\"\"\"\n",
        "\n",
        "# ──────────────── 3️⃣  HYPER-PARAMETERS ───────────────── #\n",
        "MAX_NEW_TOKENS = 256\n",
        "TEMPERATURE    = 0.2\n",
        "TOP_P          = 0.8\n",
        "DEVICE         = \"cuda\" if torch.cuda.is_available() else \"cpu\"\n",
        "DTYPE          = torch.float16 if DEVICE == \"cuda\" else torch.float32\n",
        "\n",
        "# ──────────────── 4️⃣  LOAD MODEL ───────────────── #\n",
        "# For 7B-13B models, full-precision may fit on a single modern GPU;\n",
        "# for ≥24B or laptop use, enable 4-bit quantisation.\n",
        "quant_cfg = BitsAndBytesConfig(load_in_4bit=True, bnb_4bit_compute_dtype=DTYPE)\n",
        "\n",
        "tokenizer = AutoTokenizer.from_pretrained(MODEL_ID, trust_remote_code=True)\n",
        "model     = AutoModelForCausalLM.from_pretrained(\n",
        "    MODEL_ID,\n",
        "    device_map=\"auto\",\n",
        "    torch_dtype=DTYPE,\n",
        "    quantization_config=quant_cfg\n",
        ")\n",
        "\n",
        "# ──────────────── 5️⃣  INFERENCE ───────────────── #\n",
        "inputs = tokenizer(prompt, return_tensors=\"pt\").to(DEVICE)\n",
        "\n",
        "with torch.no_grad():\n",
        "    gen_ids = model.generate(\n",
        "        **inputs,\n",
        "        max_new_tokens = MAX_NEW_TOKENS,\n",
        "        do_sample      = True,\n",
        "        temperature    = TEMPERATURE,\n",
        "        top_p          = TOP_P,\n",
        "        pad_token_id   = tokenizer.eos_token_id\n",
        "    )\n",
        "\n",
        "response = tokenizer.decode(\n",
        "    gen_ids[0][inputs[\"input_ids\"].shape[-1]:],\n",
        "    skip_special_tokens=True\n",
        ").strip()\n",
        "\n",
        "print(\"🔹 GENERATED JSON\")\n",
        "print(response)\n"
      ],
      "metadata": {
        "colab": {
          "base_uri": "https://localhost:8080/",
          "height": 546,
          "referenced_widgets": [
            "645271dcb452443080fdb39de34f9e6c",
            "5a26eb7dee6c41ca950d2171e5d424ca",
            "ca8d0e3b89c144bea1ec1f50e4c7103d",
            "311feaecde574e3fb60dc416be97aefa",
            "221db34081dd489fa140d1f8c250b427",
            "651caba9780543f79006d549a19535e2",
            "c02dab6091104b2c9e468a5a689fc02d",
            "74c8f58146a147cdbfde409682dbdef0",
            "fb6b2e4934a8410aaf8edc0dcf7f461b",
            "87af8eb4e4bb450488e99ecb7a7a2b13",
            "68e5c878385245d9bb727ef8b8f80808",
            "553787199c3d4fe49491dd96d19bb58e",
            "7dcc9e6485b44780965ce289cc86119d",
            "6e9c355d0dee4bccbe1126317e573553",
            "ecbfdbb9edf84b7988e37c7b27aefae6",
            "12f49466d17e432d81971138d70a2671",
            "f204752602d448f2953dd1b4ae2ea54c",
            "e63641def64d4e44afac57d361a7ee04",
            "b3452224aebd46668d4d428f6416eefb",
            "e7d6ee1863e44b39bba371366a3fab49",
            "fd854ead8334451584636cc5ea5ef181",
            "0075e14e20df4558aa47bdeaad1b5ca3",
            "c2a1b33b710040e0aacfbcd5e003d702",
            "4078367d096646648921e9a161058258",
            "dafba5034d6c472cb6f9783c7f8afe16",
            "932def1734264b91b16e218a9e0f8859",
            "91f7690346a94fb78ac1ed44e6ea09f6",
            "fbdef2008bc8482e83a61be9c90deccf",
            "c84618b1ed8349b3bb9d232aa776e6cb",
            "e23b9e5a916643ac84f442cd3ee4cf8b",
            "84d287548dde4e9e90b0ad1fe0437dc4",
            "3843b688acb840f69c8b7e9facb5605b",
            "0acdacde7c7b491096e634a87d97a4ee",
            "bc2358bdb453481ebe0416d998c71696",
            "cd5c65e7585d4f3b89e5c16f290318dc",
            "fa8587e230a14b838ab894fd25fdbac8",
            "2921ad806dfb410d89994324cb42c36e",
            "d1b42ddd7a1c4a16a37366a22ed53d30",
            "50711523566b44cfb6ec0efc3cfe44bc",
            "24f36c0c164845f381c75c8202ccbb43",
            "abb8ae05aa41454087ad22ea3cce4cd7",
            "5cf381fbc381485f89524d4b31c09a98",
            "652ace7d23884187a055da2359406ce8",
            "f964ddd0bfa3458385997905b173d8e0",
            "1974faded2634431b5dd3c398a3fa10a",
            "c31862a4c6b64758b98923b8dab86105",
            "68f7068a3b714dd6ab7d5fc76cc98d7f",
            "2930c462db4448418989b434e2b7757a",
            "b7afd395e2344ee7a23cc7f90eea872c",
            "6274a20a14424e6f9166452307049408",
            "4a26f3d12b76452883d57e6d0a0c6719",
            "4306d17a7c754d03a36f2a3de7733138",
            "58cded3a073e439aa22867e3c10412d4",
            "43afbfe3ffcc4acdb028ea653290bd7d",
            "a535c4206fc147b1b4e451f72867a383",
            "91c1ee887ad640a0aaac238d04ababbd",
            "4b68c93b70d54d028b008febd99184c4",
            "8c09173c258d41449700b5183fe52129",
            "8e17aee1b864487ea238d0b26d13b754",
            "4c7f48794ff94b95bfbca2bbc1a8fdc2",
            "86d3b83400f749acbbe8b2034ebc485b",
            "93abea4dd3444dfea6e844209a5d492e",
            "6234def93b37497cb0b03aa2dce0eeb1",
            "d2627048edc6447884aa880239195f5b",
            "9897aae5170e4b898b93bd894f003599",
            "bdc20d158c744acfaeeb4956020c0d4a",
            "ebaaf4dc24c24150bdf2b9e933cc42c9",
            "c67e7a7bf369410ba134cc9e6994658c",
            "875e3928ca5c47ac9058d26a3d7542eb",
            "4c537820b47941fabe33c0de9a8e891f",
            "b714c401e7394a8bb2ac8e266e62f22c",
            "b953030342e84d278c43e8b060299eb5",
            "1a813c5f13d6435892535fd3ee3de963",
            "aa941744647844e79a6e083dbd0256fb",
            "2f5b3f003a164443b053f05e994d169f",
            "0a13b2f5a4a6419eab7fc00313d88cec",
            "d50ddc6e16d543ed98b786b0dd2f2657",
            "4a812608b71345d38bfe2f16f2e4fcd5",
            "4164392c1d26482595d6dc0aca047c2c",
            "221173d2c02b4918ba91a0f4788f8d3d",
            "eeb97369ea7c40da9b8d70d003fee24e",
            "996c2333c73e4316a2f1bf569a255dd7",
            "6012336c9f524d1ba2b57b0ce086c90e",
            "242d573a7db4421f87d2c17c351f701b",
            "f9a39be94e164ddfb2a1af072d3d4e72",
            "69e25feab6f9424cab323f52f51b5281",
            "c3fd80a2815349c1bce59aab44f3b2f6",
            "123e59489e0d4f4ab2a6f01fb753a76c",
            "c556661ea84449d7acf9746757621dba",
            "6a9879a6e7c140c7a04c8959c5ef93d4",
            "e3d1706cf6f44f1d99487e0e39fc8e96",
            "0368ceede29c467c82caa4ee938b1a55",
            "87d94b9fb81b49aaab4221c57c961679",
            "e55f2330bde14dc6a735eedfe89eee0a",
            "7ba2c147eda942d495276946edbc38fa",
            "4ada91fe42154a79bbb748bd7f5edfdd",
            "38b286f8f75e41018d98718a4921be60",
            "033510f2b29f4d14a9d7d8b675b6d5d9",
            "b496295301954865b922d4b75a976a14",
            "ab57df4f4a7e422f937e0916b421bb6f",
            "00aba4bcca9d438a8974b21b12e91381",
            "83e7ba7ac25c48de92131964cb07b5b8",
            "05e333a8fdf348b2bbd47f83c6a6c881",
            "83dc0e19213a4682822db52ccb934f90",
            "6cf7e1d30a114ac2b8f419d0f6f2ea4d",
            "9e2cf03d932f4fef827a8d7b9e598f79",
            "c065d053ebc14641a7c89804bbd78c91",
            "65e1c8584e2f4fe596531b96d8c150b8",
            "f25ddc99414a4575aad2874f23873031",
            "fe8dc4e8b8d546f0adb8740879b527e4",
            "f6f8019014f6491b92490dcdf1e970d3",
            "1a0c007ef8d64da7b53cbc262ba34de7",
            "46bfd827e39641598ba4f4d9b7fecb1a",
            "2d4e49df4c694d8bb4136d8dabb670af",
            "e81b4ad4ad664df78e066cfd4bd66e80",
            "99231bc3c3ff48e5b0b87c8506f23e10",
            "8c030c4c0701409687f79fc0ff9fc940",
            "0b6b9ddc79a9414c895bf79fbb9c442a",
            "60a0dfc8617e4b5694e231ceeffa7c5b",
            "abd215ecf8334eeb9e8165d57079f73d",
            "da62d41f5bb94d6e88874298c0afdb23",
            "e0ae536c86dc4c4abaa358ba631c3d01",
            "c7f6bfa8c0a241439cb47766208e046b",
            "054ebe369acf4aa396523af01a99fad5",
            "b787b43283af4a8e82f5858633455601",
            "0721cda910044f20912cb13b021c9610",
            "96369835b97f4d07997a4519d0be1c37",
            "ee4c46ba03e04b5a97bd4854f7771a2f",
            "22f68c88fc0948e093a6550c2e91fe0e",
            "ee4e226f4f7c4d219277dbce167a5f6b",
            "3b2d271ee02a465fba0b9a4e9d78cdf4",
            "b88d99a71f1040cdba74d61af3a172b8",
            "e487216107ef4406a61e3cc25ec1f0fd",
            "d8809979349945858b9b38d4301c1aee",
            "992afc71d8b94c8aaed9afe070573085",
            "30dc7920d67e4745ad17934b49268880",
            "1b6bbbc33654416a82f9cb6f508c2f2c",
            "99d57444733f42a38785721d9710b232",
            "7bbd6bf1c066482b80ed73f299637745",
            "7a4ccc399d8746d3b2302f06c51b9824",
            "6133ca0192554f4891e0a8cabc50367b",
            "85a2386e55b94bdda3e3563a8c64e307",
            "c08c23f6cad34892908a53c9281009ad",
            "9886b599bae34c88af9958ce1b42c575",
            "0e22a0bf4e1643f78417198be655b646",
            "b996809919fb4335a118c74dadb1b4a0",
            "3a3e2aa6bffb413ba9b0abd8628294e3",
            "b6afc633c8cd445c820fa872008d88d9",
            "06585c7969244f76a1104dd8eaeaa9bd",
            "7e2bdb072cf24b599f5fdb1838137ee1",
            "ab6e3b0e15f04ca49d27d6e194d32ace",
            "8d304ce9897b492b83399ace52de34f2",
            "e70f980c4b68411fb499289f1128e12f",
            "c69cc58176f0420698cd682cca68c811",
            "19e8de1c30bd4d1db03f124773120064",
            "c63012c3af58424ba24a03a2feb71319",
            "a2253fc9aeb14dcaa6453a54cb909073",
            "1cc5af2a8a654d9cb7eb8cf9e4aa75b5",
            "9659f8e2914541e5835b18aebaf9b28b",
            "ed848026a775453b99d60bc688f10163",
            "58d78624f9c841979bffcb9cfe556996",
            "4077f8500d5b43d6bc4f267ef0e409fe",
            "7a25036c86784d8b899f24cfc2387b47",
            "115caa5407d946db98d7471ca76fed25",
            "bce988283a814cd99ab06f7e9a020fae",
            "93e55d79b5b742f2b0d03f4c633dcc94",
            "8ce294d42395483785337a1a63e26da4",
            "18f79b69e6d34f16bc1c265f77fc8759",
            "e7aac5fb98d8403aa77012f808487ee0",
            "4c1ae2efcbdc4bdfb35a2b3671fb47a6",
            "191adc83cb5b478db4b20df464a11c29",
            "19993741462c48b5b62f25ec8de6be6a",
            "645caee2dd194c7785a8386270721c34",
            "cabcf55af94047e6afad8a19c5c9645c",
            "9abc7e6d6fe340b59fee0eef37766b5c",
            "9bc0f011275f4980bcefe181bfc02a7e"
          ]
        },
        "id": "UIRVxgAo8a-R",
        "outputId": "ddf09a4d-6f95-44a2-eabb-d0efae444fbe"
      },
      "execution_count": null,
      "outputs": [
        {
          "output_type": "display_data",
          "data": {
            "text/plain": [
              "tokenizer_config.json:   0%|          | 0.00/4.08k [00:00<?, ?B/s]"
            ],
            "application/vnd.jupyter.widget-view+json": {
              "version_major": 2,
              "version_minor": 0,
              "model_id": "645271dcb452443080fdb39de34f9e6c"
            }
          },
          "metadata": {}
        },
        {
          "output_type": "display_data",
          "data": {
            "text/plain": [
              "tokenizer.model:   0%|          | 0.00/500k [00:00<?, ?B/s]"
            ],
            "application/vnd.jupyter.widget-view+json": {
              "version_major": 2,
              "version_minor": 0,
              "model_id": "553787199c3d4fe49491dd96d19bb58e"
            }
          },
          "metadata": {}
        },
        {
          "output_type": "display_data",
          "data": {
            "text/plain": [
              "tokenizer.json:   0%|          | 0.00/1.85M [00:00<?, ?B/s]"
            ],
            "application/vnd.jupyter.widget-view+json": {
              "version_major": 2,
              "version_minor": 0,
              "model_id": "c2a1b33b710040e0aacfbcd5e003d702"
            }
          },
          "metadata": {}
        },
        {
          "output_type": "display_data",
          "data": {
            "text/plain": [
              "added_tokens.json:   0%|          | 0.00/344 [00:00<?, ?B/s]"
            ],
            "application/vnd.jupyter.widget-view+json": {
              "version_major": 2,
              "version_minor": 0,
              "model_id": "bc2358bdb453481ebe0416d998c71696"
            }
          },
          "metadata": {}
        },
        {
          "output_type": "display_data",
          "data": {
            "text/plain": [
              "special_tokens_map.json:   0%|          | 0.00/736 [00:00<?, ?B/s]"
            ],
            "application/vnd.jupyter.widget-view+json": {
              "version_major": 2,
              "version_minor": 0,
              "model_id": "1974faded2634431b5dd3c398a3fa10a"
            }
          },
          "metadata": {}
        },
        {
          "output_type": "display_data",
          "data": {
            "text/plain": [
              "config.json:   0%|          | 0.00/610 [00:00<?, ?B/s]"
            ],
            "application/vnd.jupyter.widget-view+json": {
              "version_major": 2,
              "version_minor": 0,
              "model_id": "91c1ee887ad640a0aaac238d04ababbd"
            }
          },
          "metadata": {}
        },
        {
          "output_type": "stream",
          "name": "stderr",
          "text": [
            "`torch_dtype` is deprecated! Use `dtype` instead!\n"
          ]
        },
        {
          "output_type": "display_data",
          "data": {
            "text/plain": [
              "model.safetensors.index.json:   0%|          | 0.00/23.9k [00:00<?, ?B/s]"
            ],
            "application/vnd.jupyter.widget-view+json": {
              "version_major": 2,
              "version_minor": 0,
              "model_id": "ebaaf4dc24c24150bdf2b9e933cc42c9"
            }
          },
          "metadata": {}
        },
        {
          "output_type": "display_data",
          "data": {
            "text/plain": [
              "Fetching 8 files:   0%|          | 0/8 [00:00<?, ?it/s]"
            ],
            "application/vnd.jupyter.widget-view+json": {
              "version_major": 2,
              "version_minor": 0,
              "model_id": "4a812608b71345d38bfe2f16f2e4fcd5"
            }
          },
          "metadata": {}
        },
        {
          "output_type": "display_data",
          "data": {
            "text/plain": [
              "model-00005-of-00008.safetensors:   0%|          | 0.00/1.90G [00:00<?, ?B/s]"
            ],
            "application/vnd.jupyter.widget-view+json": {
              "version_major": 2,
              "version_minor": 0,
              "model_id": "c556661ea84449d7acf9746757621dba"
            }
          },
          "metadata": {}
        },
        {
          "output_type": "display_data",
          "data": {
            "text/plain": [
              "model-00008-of-00008.safetensors:   0%|          | 0.00/262M [00:00<?, ?B/s]"
            ],
            "application/vnd.jupyter.widget-view+json": {
              "version_major": 2,
              "version_minor": 0,
              "model_id": "ab57df4f4a7e422f937e0916b421bb6f"
            }
          },
          "metadata": {}
        },
        {
          "output_type": "display_data",
          "data": {
            "text/plain": [
              "model-00003-of-00008.safetensors:   0%|          | 0.00/1.84G [00:00<?, ?B/s]"
            ],
            "application/vnd.jupyter.widget-view+json": {
              "version_major": 2,
              "version_minor": 0,
              "model_id": "f6f8019014f6491b92490dcdf1e970d3"
            }
          },
          "metadata": {}
        },
        {
          "output_type": "display_data",
          "data": {
            "text/plain": [
              "model-00006-of-00008.safetensors:   0%|          | 0.00/1.84G [00:00<?, ?B/s]"
            ],
            "application/vnd.jupyter.widget-view+json": {
              "version_major": 2,
              "version_minor": 0,
              "model_id": "e0ae536c86dc4c4abaa358ba631c3d01"
            }
          },
          "metadata": {}
        },
        {
          "output_type": "display_data",
          "data": {
            "text/plain": [
              "model-00001-of-00008.safetensors:   0%|          | 0.00/1.91G [00:00<?, ?B/s]"
            ],
            "application/vnd.jupyter.widget-view+json": {
              "version_major": 2,
              "version_minor": 0,
              "model_id": "e487216107ef4406a61e3cc25ec1f0fd"
            }
          },
          "metadata": {}
        },
        {
          "output_type": "display_data",
          "data": {
            "text/plain": [
              "model-00007-of-00008.safetensors:   0%|          | 0.00/1.89G [00:00<?, ?B/s]"
            ],
            "application/vnd.jupyter.widget-view+json": {
              "version_major": 2,
              "version_minor": 0,
              "model_id": "9886b599bae34c88af9958ce1b42c575"
            }
          },
          "metadata": {}
        },
        {
          "output_type": "display_data",
          "data": {
            "text/plain": [
              "model-00004-of-00008.safetensors:   0%|          | 0.00/1.92G [00:00<?, ?B/s]"
            ],
            "application/vnd.jupyter.widget-view+json": {
              "version_major": 2,
              "version_minor": 0,
              "model_id": "19e8de1c30bd4d1db03f124773120064"
            }
          },
          "metadata": {}
        },
        {
          "output_type": "display_data",
          "data": {
            "text/plain": [
              "model-00002-of-00008.safetensors:   0%|          | 0.00/1.90G [00:00<?, ?B/s]"
            ],
            "application/vnd.jupyter.widget-view+json": {
              "version_major": 2,
              "version_minor": 0,
              "model_id": "93e55d79b5b742f2b0d03f4c633dcc94"
            }
          },
          "metadata": {}
        }
      ]
    }
  ]
}
